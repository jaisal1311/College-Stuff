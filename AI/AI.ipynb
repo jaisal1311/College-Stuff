{
  "nbformat": 4,
  "nbformat_minor": 0,
  "metadata": {
    "colab": {
      "name": "AI.ipynb",
      "provenance": [],
      "authorship_tag": "ABX9TyPkDZK925sigilVavGt5+4T",
      "include_colab_link": true
    },
    "kernelspec": {
      "name": "python3",
      "display_name": "Python 3"
    }
  },
  "cells": [
    {
      "cell_type": "markdown",
      "metadata": {
        "id": "view-in-github",
        "colab_type": "text"
      },
      "source": [
        "<a href=\"https://colab.research.google.com/github/jaisal1311/College-Stuff/blob/master/AI/AI.ipynb\" target=\"_parent\"><img src=\"https://colab.research.google.com/assets/colab-badge.svg\" alt=\"Open In Colab\"/></a>"
      ]
    },
    {
      "cell_type": "markdown",
      "metadata": {
        "id": "lB6x6EIJ2TLy",
        "colab_type": "text"
      },
      "source": [
        "# Romania Map\n",
        "\n",
        "\n",
        "\n",
        "![ROMANIA MAP](https://miro.medium.com/max/863/1*Lx_LKzRCpXnYaEn-ZdUu1Q.png)"
      ]
    },
    {
      "cell_type": "code",
      "metadata": {
        "id": "dNbWu-KJryHo",
        "colab_type": "code",
        "colab": {}
      },
      "source": [
        "romania_map = {\n",
        "    'Arad': ['Sibiu', 'Timisoara', 'Zerind'],\n",
        "    'Bucharest': ['Fagarus', 'Giurgiu', 'Pitesti', 'Urziceni'],\n",
        "    'Craiova': ['Drobeta', 'Pitesti', 'Rimnicu Vilcea'],\n",
        "    'Drobeta': ['Craiova', 'Mehadia'],\n",
        "    'Eforie': ['Hirsova'],\n",
        "    'Fagarus': ['Bucharest', 'Sibiu'],\n",
        "    'Giurgiu': ['Bucharest'],\n",
        "    'Hirsova': ['Eforie', 'Urziceni'],\n",
        "    'Iasi': ['Neamt', 'Vaslui'],\n",
        "    'Lugoj': ['Mehadia', 'Timisoara'],\n",
        "    'Mehadia': ['Drobeta', 'Lugoj'],\n",
        "    'Neamt': ['Iasi'],\n",
        "    'Oradea': ['Sibiu', 'Zerind'],\n",
        "    'Pitesti': ['Bucharest', 'Craiova', 'Rimnicu Vilcea'],\n",
        "    'Rimnicu Vilcea': ['Craiova', 'Pitesti', 'Sibiu'],\n",
        "    'Sibiu': ['Oradea', 'Arad','Fagarus', 'Rimnicu Vilcea'],\n",
        "    'Timisoara':['Arad', 'Lugoj'],\n",
        "    'Urziceni': ['Bucharest', 'Hirsova', 'Vaslui'],\n",
        "    'Vaslui': ['Iasi', 'Urziceni'],\n",
        "    'Zerind': ['Arad', 'Oradea'],\n",
        "}"
      ],
      "execution_count": null,
      "outputs": []
    },
    {
      "cell_type": "markdown",
      "metadata": {
        "id": "wn68kazp8Uvf",
        "colab_type": "text"
      },
      "source": [
        "## BFS traversal until node is found"
      ]
    },
    {
      "cell_type": "code",
      "metadata": {
        "id": "FK7ho_F0woiX",
        "colab_type": "code",
        "colab": {
          "base_uri": "https://localhost:8080/",
          "height": 36
        },
        "outputId": "95811190-565b-456c-e928-52a578abea11"
      },
      "source": [
        "def BFS_traversal(G, s, d):\n",
        "    if s == d:\n",
        "        return 'Masti Nai...😅'\n",
        "    visited = [s]\n",
        "    q = [s]\n",
        "    while q:\n",
        "        u = q.pop(0)\n",
        "        for v in G[u]:\n",
        "            if v not in visited:\n",
        "                if v == d:\n",
        "                    visited.append(v)\n",
        "                    return ' => '.join(visited)\n",
        "                else:\n",
        "                    q.append(v)\n",
        "                    visited.append(v)\n",
        "    return 'Not Found..😞'\n",
        "\n",
        "BFS_traversal(romania_map, 'Arad', 'Arad')"
      ],
      "execution_count": null,
      "outputs": [
        {
          "output_type": "execute_result",
          "data": {
            "application/vnd.google.colaboratory.intrinsic+json": {
              "type": "string"
            },
            "text/plain": [
              "'Masti Nai...😅'"
            ]
          },
          "metadata": {
            "tags": []
          },
          "execution_count": 9
        }
      ]
    },
    {
      "cell_type": "markdown",
      "metadata": {
        "id": "5L9HODYV8aYI",
        "colab_type": "text"
      },
      "source": [
        "## BFS Shortest Path"
      ]
    },
    {
      "cell_type": "code",
      "metadata": {
        "id": "3cjYO89D0_nW",
        "colab_type": "code",
        "colab": {
          "base_uri": "https://localhost:8080/",
          "height": 36
        },
        "outputId": "9d323ed1-daba-4d03-8787-56b7b2114022"
      },
      "source": [
        "def BFS_shortest_path(G, source, destination):\n",
        "    visited= []\n",
        "    queue = [[source]]\n",
        "\n",
        "    if source == destination:\n",
        "        return 'No masti..😅'\n",
        "    \n",
        "    while queue:\n",
        "        path = queue.pop(0)\n",
        "        node = path[-1]\n",
        "\n",
        "        if node not in visited:\n",
        "            neighbours = G[node]\n",
        "        \n",
        "        for neighbour in neighbours:\n",
        "            new_path = list(path)\n",
        "            new_path.append(neighbour)\n",
        "            queue.append(new_path)\n",
        "\n",
        "            if neighbour == destination:\n",
        "                return (' => '.join(new_path), '✨')\n",
        "        visited.append(node)\n",
        "    return 'Not Found..😞'\n",
        "BFS_shortest_path(romania_map, 'Arad', 'Arad')"
      ],
      "execution_count": null,
      "outputs": [
        {
          "output_type": "execute_result",
          "data": {
            "application/vnd.google.colaboratory.intrinsic+json": {
              "type": "string"
            },
            "text/plain": [
              "'No masti..😅'"
            ]
          },
          "metadata": {
            "tags": []
          },
          "execution_count": 8
        }
      ]
    },
    {
      "cell_type": "code",
      "metadata": {
        "id": "9q30lj6bJsL4",
        "colab_type": "code",
        "colab": {
          "base_uri": "https://localhost:8080/",
          "height": 372
        },
        "outputId": "0d533161-8a84-4768-c575-67cbb77598ed"
      },
      "source": [
        "# visited = set()\n",
        "# def DFS(G, dest, visited): \n",
        "#     node = dest\n",
        "#     if node not in visited:\n",
        "#         print(node)\n",
        "#         visited.add(node)\n",
        "#         for i in G[node]:\n",
        "#             DFS(G, i, visited)\n",
        "def DFS(graph, start):\n",
        "    visited, stack = set(), [start]\n",
        "    while stack:\n",
        "        vertex = stack.pop()\n",
        "        if vertex not in visited:\n",
        "            visited.add(vertex)\n",
        "            stack.extend(graph[vertex])\n",
        "    return visited\n",
        "\n",
        "DFS(romania_map, 'Craiova')"
      ],
      "execution_count": null,
      "outputs": [
        {
          "output_type": "execute_result",
          "data": {
            "text/plain": [
              "{'Arad',\n",
              " 'Bucharest',\n",
              " 'Craiova',\n",
              " 'Drobeta',\n",
              " 'Eforie',\n",
              " 'Fagarus',\n",
              " 'Giurgiu',\n",
              " 'Hirsova',\n",
              " 'Iasi',\n",
              " 'Lugoj',\n",
              " 'Mehadia',\n",
              " 'Neamt',\n",
              " 'Oradea',\n",
              " 'Pitesti',\n",
              " 'Rimnicu Vilcea',\n",
              " 'Sibiu',\n",
              " 'Timisoara',\n",
              " 'Urziceni',\n",
              " 'Vaslui',\n",
              " 'Zerind'}"
            ]
          },
          "metadata": {
            "tags": []
          },
          "execution_count": 24
        }
      ]
    },
    {
      "cell_type": "code",
      "metadata": {
        "id": "8-2LMelZ_dAl",
        "colab_type": "code",
        "colab": {}
      },
      "source": [
        ""
      ],
      "execution_count": null,
      "outputs": []
    }
  ]
}