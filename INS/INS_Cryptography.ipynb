{
  "nbformat": 4,
  "nbformat_minor": 0,
  "metadata": {
    "colab": {
      "name": "INS_Cryptography.ipynb",
      "provenance": [],
      "collapsed_sections": [],
      "authorship_tag": "ABX9TyPAtPLQUNPIEqNR9Yjtlufv",
      "include_colab_link": true
    },
    "kernelspec": {
      "name": "python3",
      "display_name": "Python 3"
    }
  },
  "cells": [
    {
      "cell_type": "markdown",
      "metadata": {
        "id": "view-in-github",
        "colab_type": "text"
      },
      "source": [
        "<a href=\"https://colab.research.google.com/github/jaisal1311/College-Stuff/blob/master/INS/INS_Cryptography.ipynb\" target=\"_parent\"><img src=\"https://colab.research.google.com/assets/colab-badge.svg\" alt=\"Open In Colab\"/></a>"
      ]
    },
    {
      "cell_type": "markdown",
      "metadata": {
        "id": "gSAN1YygPGcG",
        "colab_type": "text"
      },
      "source": [
        "# INS Practicals by Self"
      ]
    },
    {
      "cell_type": "markdown",
      "metadata": {
        "id": "sNIkjabyO4GK",
        "colab_type": "text"
      },
      "source": [
        "---\n",
        "\n",
        "\n",
        "## Practical 1 & 2 : Implementing Substitution and Transposition Ciphers\n"
      ]
    },
    {
      "cell_type": "code",
      "metadata": {
        "id": "s1W3uAQvFYM4",
        "colab_type": "code",
        "colab": {}
      },
      "source": [
        "# Utility Dictionaries.\n",
        "key_dict = {\n",
        "    'a': 'm',\n",
        "    'b': 'n',\n",
        "    'c': 'b',\n",
        "    'd': 'v',\n",
        "    'e': 'c',\n",
        "    'f': 'x',\n",
        "    'g': 'z',\n",
        "    'h': 'a',\n",
        "    'i': 's',\n",
        "    'j': 'd',\n",
        "    'k': 'f',\n",
        "    'l': 'g',\n",
        "    'm': 'h',\n",
        "    'n': 'j',\n",
        "    'o': 'k',\n",
        "    'p': 'l',\n",
        "    'q': 'p',\n",
        "    'r': 'o',\n",
        "    's': 'i',\n",
        "    't': 'u',\n",
        "    'u': 'y',\n",
        "    'v': 't',\n",
        "    'w': 'r',\n",
        "    'x': 'e',\n",
        "    'y': 'w',\n",
        "    'z': 'q',\n",
        "    ' ': ' ',\n",
        "}"
      ],
      "execution_count": 5,
      "outputs": []
    },
    {
      "cell_type": "code",
      "metadata": {
        "id": "teITaGmMx0vj",
        "colab_type": "code",
        "colab": {}
      },
      "source": [
        "# Caesar Cipher\n",
        "\n",
        "def caesar_encrypt():\n",
        "    word = input('Enter the plain text: ')\n",
        "    c = ''\n",
        "    for i in word:\n",
        "        if (i == ' '):\n",
        "            c += ' '\n",
        "        else:\n",
        "            c += (chr(ord(i) + 3))\n",
        "    return c\n",
        "\n",
        "def caesar_decrypt():\n",
        "    word = input('Enter the cipher text: ')\n",
        "    c = ''\n",
        "    for i in word:\n",
        "        if (i == ' '):\n",
        "            c += ' '\n",
        "        else:\n",
        "            c += (chr(ord(i) - 3))\n",
        "    return c\n",
        "\n",
        "# Modified Caesar Cipher\n",
        "\n",
        "def modified_caesar_encrypt():\n",
        "    word = input(\"Enter the plain text: \")\n",
        "    k = int(input(\"Enter the key offset: \"))\n",
        "    c = ''\n",
        "    for i in word:\n",
        "        if (i == ' '):\n",
        "            c += ' '\n",
        "        else:\n",
        "            c += (chr(ord(i) + k))\n",
        "    return c\n",
        "\n",
        "def modified_caesar_decrypt():\n",
        "    word = input(\"Enter the cipher text: \")\n",
        "    k = int(input(\"Enter the key offset: \"))\n",
        "    c = ''\n",
        "    for i in word:\n",
        "        if (i == ' '):\n",
        "            c += ' '\n",
        "        else:\n",
        "            c += (chr(ord(i) - k))\n",
        "    return c\n",
        "\n",
        "# Mono-Aplhabetic Cipher\n",
        "\n",
        "def get_key(value):\n",
        "    for key, val in key_dict.items():\n",
        "        if (val == value):\n",
        "            return key\n",
        "\n",
        "def monoalphabetic_encrypt():\n",
        "    word = input(\"Enter the plain text: \")\n",
        "    c = ''\n",
        "    for i in word:\n",
        "        i = key_dict[i]\n",
        "        c += i\n",
        "    return c\n",
        "\n",
        "def monoalphabetic_decrypt():\n",
        "    word = input(\"Enter the cipher text: \")\n",
        "    c = ''\n",
        "    for i in word:\n",
        "        i = get_key(i)\n",
        "        c += i\n",
        "    return c\n",
        "\n",
        "# Rail-Fence Transposition Cipher\n",
        "def rail_fence_encrypt():\n",
        "    word = list(input(\"Enter the plain text: \"))\n",
        "    even, odd  = [word[i] for i in range(0, len(word), 2)], [word[i] for i in range(1, len(word), 2)]\n",
        "    return ''.join(even) + ''.join(odd)\n",
        "\n",
        "def rail_fence_decrypt():\n",
        "    word = list(input(\"Enter the plain text: \"))\n",
        "    if(len(word) % 2 == 0):\n",
        "        odd, even = word[: int(len(word) / 2)], word[int(len(word) / 2): ]\n",
        "    else:\n",
        "        odd, even = word[: int(len(word) / 2) + 1], word[int(len(word) / 2) + 1:]\n",
        "    if (len(odd) != len(even)):\n",
        "        even.append(' ')\n",
        "    plain = [odd[i] + even[i] for i in range(len(odd))]\n",
        "    return ''.join(plain)\n",
        "\n",
        "def columnar_encrypt():\n",
        "    plain = input(\"Enter the plain text: \").replace(' ', '')\n",
        "    key = list(input(\"Enter the plain text: \").lower())\n",
        "    rowSize = len((key))\n",
        "    m = [(list(plain[i: i + rowSize])) for i in range(0, len(plain), rowSize)]\n",
        "    for i in m:\n",
        "        if len(i) != rowSize:\n",
        "            while len(i) != rowSize:\n",
        "                i.append('')\n",
        "        print(i)\n",
        "    key_sort = []\n",
        "    for i in sorted(key):\n",
        "        key_sort.append(key.index(i))\n",
        "        key[key.index(i)] = ''\n",
        "    print(key_sort)\n",
        "    cipher = []\n",
        "    for i in key_sort:\n",
        "        for j in range(len(m)):\n",
        "            if m[j][i] is not '':   \n",
        "                cipher.append(m[j][i])\n",
        "    return 'Cipher Text: Read if you can: {0}'.format(''.join(cipher))\n",
        "\n",
        "def itr(cipher):\n",
        "    while True:\n",
        "        print('\\n{0} Options: \\n 1. Encrypt \\n 2. Decrypt \\n 0. Back to Options '.format(cipher))\n",
        "        inp = int(input(\"Please enter valid input: \"))\n",
        "        if (inp == 1):\n",
        "            print(\"Encrypted Text: {0}\".format(caesar_encrypt()))\n",
        "        elif (inp == 2):\n",
        "            print(\"Plain Text: {0}\".format(caesar_decrypt()))\n",
        "        if (inp == 0):\n",
        "            break\n",
        "\n"
      ],
      "execution_count": 4,
      "outputs": []
    },
    {
      "cell_type": "code",
      "metadata": {
        "id": "Zh4JOAmOFNO-",
        "colab_type": "code",
        "colab": {
          "base_uri": "https://localhost:8080/",
          "height": 655
        },
        "outputId": "d31c3f6f-e0b5-4af0-bf12-9780761e29f9"
      },
      "source": [
        "while True:\n",
        "    print('\\n\\nOptions:\\n Practical No.:1 Substitution Cipher \\n 1. Caesar Cipher \\n 2. Modified Caesar Cipher \\n 3. Mono-Alphabetic Cipher \\n Practical No.:2 Transposition CIpher \\n 4. Rail-Fence \\n 5. Simple COlumnar')\n",
        "    inp = int(input(\"Please enter valid input: \"))\n",
        "    if (inp == 1):\n",
        "        while True:\n",
        "            print('\\nCaesar Cipher Options: \\n 1. Encrypt \\n 2. Decrypt \\n 0. Back to Options ')\n",
        "            inp = int(input(\"Please enter valid input: \"))\n",
        "            if (inp == 1):\n",
        "                print(\"Encrypted Text: {0}\".format(caesar_encrypt()))\n",
        "            elif (inp == 2):\n",
        "                print(\"Plain Text: {0}\".format(caesar_decrypt()))\n",
        "            if (inp == 0):\n",
        "                break\n",
        "    elif (inp == 2):\n",
        "        while True:\n",
        "            print('\\nModified Caesar Cipher Options: \\n 1. Encrypt \\n 2. Decrypt \\n 0. Back to Options ')\n",
        "            inp = int(input(\"Please enter valid input: \"))\n",
        "            if (inp == 1):\n",
        "                print(\"Encrypted Text: {0}\".format(modified_caesar_encrypt()))\n",
        "            elif (inp == 2):\n",
        "                print(\"Plain Text: {0}\".format(modified_caesar_decrypt()))\n",
        "            if (inp == 0):\n",
        "                break\n",
        "    elif (inp == 3):\n",
        "        while True:\n",
        "            print('\\nMono-Alphabetic Cipher Options: \\n 1. Encrypt \\n 2. Decrypt \\n 0. Back to Options ')\n",
        "            inp = int(input(\"Please enter valid input: \"))\n",
        "            if (inp == 1):\n",
        "                print(\"Encrypted Text: {0}\".format(monoalphabetic_encrypt()))\n",
        "            elif (inp == 2):\n",
        "                print(\"Plain Text: {0}\".format(monoalphabetic_decrypt()))\n",
        "            if (inp == 0):\n",
        "                break\n",
        "    elif (inp == 4):\n",
        "        while True:\n",
        "            print('\\nMono-Alphabetic Cipher Options: \\n 1. Encrypt \\n 2. Decrypt \\n 0. Back to Options ')\n",
        "            inp = int(input(\"Please enter valid input: \"))\n",
        "            if (inp == 1):\n",
        "                print(\"Encrypted Text: {0}\".format(rail_fence_encrypt()))\n",
        "            elif (inp == 2):\n",
        "                print(\"Plain Text: {0}\".format(rail_fence_decrypt()))\n",
        "            if (inp == 0):\n",
        "                break\n",
        "    elif (inp == 5):\n",
        "        while True:\n",
        "            print('\\nMono-Alphabetic Cipher Options: \\n 1. Encrypt \\n 2. Decrypt(Not Done) \\n 0. Back to Options ')\n",
        "            inp = int(input(\"Please enter valid input: \"))\n",
        "            if (inp == 1):\n",
        "                print(\"Encrypted Text: {0}\".format(columnar_encrypt()))\n",
        "            elif (inp == 2):\n",
        "                # print(\"Plain Text: {0}\".format(_decrypt()))\n",
        "                print(\"Work in PROGRESS\")\n",
        "            if (inp == 0):\n",
        "                break\n",
        "    \n",
        "        \n",
        "\n",
        "    inp = int(input(\"\\nDo you want to continue? (1: Yes; 0:No) \"))\n",
        "    if (inp == 0):\n",
        "        break\n",
        "\n",
        "print(\"\\nThank You 🙌\")\n"
      ],
      "execution_count": 6,
      "outputs": [
        {
          "output_type": "stream",
          "text": [
            "\n",
            "\n",
            "Options:\n",
            " Practical No.:1 Substitution Cipher \n",
            " 1. Caesar Cipher \n",
            " 2. Modified Caesar Cipher \n",
            " 3. Mono-Alphabetic Cipher \n",
            " Practical No.:2 Transposition CIpher \n",
            " 4. Rail-Fence \n",
            " 5. Simple COlumnar\n",
            "Please enter valid input: 5\n",
            "\n",
            "Mono-Alphabetic Cipher Options: \n",
            " 1. Encrypt \n",
            " 2. Decrypt(Not Done) \n",
            " 0. Back to Options \n",
            "Please enter valid input: 1\n",
            "Enter the plain text: MonoAlphabetic Cipher Options\n",
            "Enter the plain text: hash\n",
            "['M', 'o', 'n', 'o']\n",
            "['A', 'l', 'p', 'h']\n",
            "['a', 'b', 'e', 't']\n",
            "['i', 'c', 'C', 'i']\n",
            "['p', 'h', 'e', 'r']\n",
            "['O', 'p', 't', 'i']\n",
            "['o', 'n', 's', '']\n",
            "[1, 0, 3, 2]\n",
            "Encrypted Text: Cipher Text: Read if you can: olbchpnMAaipOoohtirinpeCets\n",
            "\n",
            "Mono-Alphabetic Cipher Options: \n",
            " 1. Encrypt \n",
            " 2. Decrypt(Not Done) \n",
            " 0. Back to Options \n",
            "Please enter valid input: 0\n",
            "\n",
            "Do you want to continue? (1: Yes; 0:No) 0\n",
            "\n",
            "Thank You 🙌\n"
          ],
          "name": "stdout"
        }
      ]
    },
    {
      "cell_type": "code",
      "metadata": {
        "id": "Q7GNqdzqQG7C",
        "colab_type": "code",
        "colab": {
          "base_uri": "https://localhost:8080/",
          "height": 202
        },
        "outputId": "56ac16c0-a23a-4cac-dcd5-3c1666b10996"
      },
      "source": [
        "def columnar_encrypt():\n",
        "    plain = input(\"Enter the plain text: \").replace(' ', '')\n",
        "    key = list(input(\"Enter the plain text: \").lower())\n",
        "    rowSize = len((key))\n",
        "    m = [(list(plain[i: i + rowSize])) for i in range(0, len(plain), rowSize)]\n",
        "    for i in m:\n",
        "        if len(i) != rowSize:\n",
        "            while len(i) != rowSize:\n",
        "                i.append('')\n",
        "        print(i)\n",
        "    key_sort = []\n",
        "    for i in sorted(key):\n",
        "        key_sort.append(key.index(i))\n",
        "        key[key.index(i)] = ''\n",
        "    print(key_sort)\n",
        "    cipher = []\n",
        "    for i in key_sort:\n",
        "        for j in range(len(m)):\n",
        "            if m[j][i] is not '':   \n",
        "                cipher.append(m[j][i])\n",
        "    print('Cipher Text: Read if you can: {0}'.format(''.join(cipher)))\n",
        "\n",
        "columnar_encrypt()"
      ],
      "execution_count": 3,
      "outputs": [
        {
          "output_type": "stream",
          "text": [
            "Enter the plain text: MonoAlphabetic Cipher Options\n",
            "Enter the plain text: hash\n",
            "['M', 'o', 'n', 'o']\n",
            "['A', 'l', 'p', 'h']\n",
            "['a', 'b', 'e', 't']\n",
            "['i', 'c', 'C', 'i']\n",
            "['p', 'h', 'e', 'r']\n",
            "['O', 'p', 't', 'i']\n",
            "['o', 'n', 's', '']\n",
            "[1, 0, 3, 2]\n",
            "Cipher Text: Read if you can: olbchpnMAaipOoohtirinpeCets\n"
          ],
          "name": "stdout"
        }
      ]
    },
    {
      "cell_type": "code",
      "metadata": {
        "id": "kXpytgMAXqCH",
        "colab_type": "code",
        "colab": {
          "base_uri": "https://localhost:8080/",
          "height": 36
        },
        "outputId": "15b8984a-d81c-446e-eec6-441c749d9aa0"
      },
      "source": [
        "def columnar_decrypt(cipher, key):\n",
        "    return \n",
        "\n",
        "columnar_decrypt('olbchpnMAaipOoohtirinpeCets', 'hash')"
      ],
      "execution_count": null,
      "outputs": [
        {
          "output_type": "execute_result",
          "data": {
            "application/vnd.google.colaboratory.intrinsic+json": {
              "type": "string"
            },
            "text/plain": [
              "'hash'"
            ]
          },
          "metadata": {
            "tags": []
          },
          "execution_count": 1
        }
      ]
    }
  ]
}